{
 "cells": [
  {
   "cell_type": "code",
   "execution_count": 77,
   "metadata": {},
   "outputs": [],
   "source": [
    "import pandas as pd\n",
    "import numpy as np\n",
    "import matplotlib.pyplot as plt\n",
    "import seaborn as sns\n",
    "sns.set()"
   ]
  },
  {
   "cell_type": "markdown",
   "metadata": {},
   "source": [
    "# Predicting KPU for the last year per patient using extended feature set"
   ]
  },
  {
   "cell_type": "code",
   "execution_count": 52,
   "metadata": {},
   "outputs": [],
   "source": [
    "data = pd.read_csv('extended_stoma_dataset.csv')"
   ]
  },
  {
   "cell_type": "code",
   "execution_count": 54,
   "metadata": {},
   "outputs": [],
   "source": [
    "data['end_year'] = data.dates.apply(lambda a: int(a.split('-')[1]))\n",
    "data['birth_year'] = data['date_of_birth'].apply(lambda a: int('20'+a.split('.')[-1] ))\n",
    "data['right_age'] = data[['end_year', 'birth_year']].apply(lambda a: a[0]-a[1], axis=1)\n",
    "data['kpu'] = data[['num_caries', 'num_filling_caries',\n",
    "                    'num_filling_no_caries', \n",
    "                    'num_removed_caused_by_caries', 'num_removed_other_reasons']].sum(axis=1)\n"
   ]
  },
  {
   "cell_type": "code",
   "execution_count": 55,
   "metadata": {},
   "outputs": [],
   "source": [
    "train = data.drop(data[data['dates'] == '2017-2018'].index, axis=0) \n",
    "test = data[data['dates'] == '2017-2018']"
   ]
  },
  {
   "cell_type": "code",
   "execution_count": 56,
   "metadata": {},
   "outputs": [
    {
     "name": "stdout",
     "output_type": "stream",
     "text": [
      "(1146, 25) (191, 25)\n"
     ]
    }
   ],
   "source": [
    "print(train.shape, test.shape)"
   ]
  },
  {
   "cell_type": "code",
   "execution_count": 57,
   "metadata": {},
   "outputs": [],
   "source": [
    "NUM_FEATURES = [\n",
    "       'prosthesis crown veneer', 'sealed fissure', 'uncut tooth', 'fluorosis', \n",
    "               'sum_hygiene_index', 'right_age', ]\n",
    "LAST_FEATURES = [ 'not_registered', 'num_caries',\n",
    "       'num_filling_caries', 'num_filling_no_caries', 'num_healthy',\n",
    "       'num_removed_caused_by_caries', 'num_removed_other_reasons',] #признаки, участвующие в расчете целевой метрики, берем их только за последний год\n",
    "TARGET = ['kpu']\n",
    "CAT_FEATURES = ['nationality', 'place_of_birth',\n",
    "               'previous_place_of_living', 'bite_type', ]\n"
   ]
  },
  {
   "cell_type": "code",
   "execution_count": 58,
   "metadata": {},
   "outputs": [
    {
     "data": {
      "text/plain": [
       "Index(['Unnamed: 0', 'dates', 'id', 'not_registered', 'num_caries',\n",
       "       'num_filling_caries', 'num_filling_no_caries', 'num_healthy',\n",
       "       'num_removed_caused_by_caries', 'num_removed_other_reasons',\n",
       "       'prosthesis crown veneer', 'sealed fissure', 'uncut tooth', 'age',\n",
       "       'nationality', 'date_of_birth', 'place_of_birth',\n",
       "       'previous_place_of_living', 'bite_type', 'fluorosis',\n",
       "       'sum_hygiene_index', 'end_year', 'birth_year', 'right_age', 'kpu'],\n",
       "      dtype='object')"
      ]
     },
     "execution_count": 58,
     "metadata": {},
     "output_type": "execute_result"
    }
   ],
   "source": [
    "train.columns"
   ]
  },
  {
   "cell_type": "code",
   "execution_count": 59,
   "metadata": {},
   "outputs": [],
   "source": [
    "\n",
    "x_mean = train[NUM_FEATURES+['id']].groupby('id').mean()\n",
    "x_cat = train[CAT_FEATURES+['id']].groupby('id').agg(lambda x:x.value_counts().index[0])\n",
    "last_names = [c+' last' for c in NUM_FEATURES]\n",
    "x_last = pd.DataFrame(columns=[c+' last' for c in NUM_FEATURES])\n",
    "x_last[last_names] = train[NUM_FEATURES+['id']].groupby('id').last()\n",
    "\n",
    "last_cor_target_names = [c+' previous year' for c in LAST_FEATURES]\n",
    "x_prev_year = pd.DataFrame(columns=last_cor_target_names)\n",
    "x_prev_year = train[LAST_FEATURES+['id']].groupby('id').agg(lambda x: x.iloc[:len(x)-1].iloc[-1])\n",
    "\n",
    "x_past_target = train[TARGET+['id']].groupby('id').agg(lambda x: x.iloc[:len(x)-1].iloc[-1])\n",
    "x_past_target.columns = ['kpu_last']\n",
    "x_past_target['kpu'] = train[TARGET+['id']].groupby('id').agg(lambda x: x.iloc[-1])\n"
   ]
  },
  {
   "cell_type": "code",
   "execution_count": 60,
   "metadata": {},
   "outputs": [
    {
     "data": {
      "text/html": [
       "<div>\n",
       "<style scoped>\n",
       "    .dataframe tbody tr th:only-of-type {\n",
       "        vertical-align: middle;\n",
       "    }\n",
       "\n",
       "    .dataframe tbody tr th {\n",
       "        vertical-align: top;\n",
       "    }\n",
       "\n",
       "    .dataframe thead th {\n",
       "        text-align: right;\n",
       "    }\n",
       "</style>\n",
       "<table border=\"1\" class=\"dataframe\">\n",
       "  <thead>\n",
       "    <tr style=\"text-align: right;\">\n",
       "      <th></th>\n",
       "      <th>not_registered</th>\n",
       "      <th>num_caries</th>\n",
       "      <th>num_filling_caries</th>\n",
       "      <th>num_filling_no_caries</th>\n",
       "      <th>num_healthy</th>\n",
       "      <th>num_removed_caused_by_caries</th>\n",
       "      <th>num_removed_other_reasons</th>\n",
       "    </tr>\n",
       "    <tr>\n",
       "      <th>id</th>\n",
       "      <th></th>\n",
       "      <th></th>\n",
       "      <th></th>\n",
       "      <th></th>\n",
       "      <th></th>\n",
       "      <th></th>\n",
       "      <th></th>\n",
       "    </tr>\n",
       "  </thead>\n",
       "  <tbody>\n",
       "    <tr>\n",
       "      <td>1101.xlsx</td>\n",
       "      <td>0</td>\n",
       "      <td>2</td>\n",
       "      <td>1</td>\n",
       "      <td>4</td>\n",
       "      <td>22</td>\n",
       "      <td>0</td>\n",
       "      <td>0</td>\n",
       "    </tr>\n",
       "    <tr>\n",
       "      <td>1102.xlsx</td>\n",
       "      <td>0</td>\n",
       "      <td>2</td>\n",
       "      <td>0</td>\n",
       "      <td>2</td>\n",
       "      <td>25</td>\n",
       "      <td>0</td>\n",
       "      <td>0</td>\n",
       "    </tr>\n",
       "    <tr>\n",
       "      <td>1103.xlsx</td>\n",
       "      <td>0</td>\n",
       "      <td>0</td>\n",
       "      <td>0</td>\n",
       "      <td>5</td>\n",
       "      <td>24</td>\n",
       "      <td>0</td>\n",
       "      <td>0</td>\n",
       "    </tr>\n",
       "    <tr>\n",
       "      <td>1104.xlsx</td>\n",
       "      <td>0</td>\n",
       "      <td>8</td>\n",
       "      <td>0</td>\n",
       "      <td>0</td>\n",
       "      <td>21</td>\n",
       "      <td>0</td>\n",
       "      <td>0</td>\n",
       "    </tr>\n",
       "    <tr>\n",
       "      <td>1105.xlsx</td>\n",
       "      <td>0</td>\n",
       "      <td>0</td>\n",
       "      <td>1</td>\n",
       "      <td>0</td>\n",
       "      <td>28</td>\n",
       "      <td>0</td>\n",
       "      <td>0</td>\n",
       "    </tr>\n",
       "    <tr>\n",
       "      <td>...</td>\n",
       "      <td>...</td>\n",
       "      <td>...</td>\n",
       "      <td>...</td>\n",
       "      <td>...</td>\n",
       "      <td>...</td>\n",
       "      <td>...</td>\n",
       "      <td>...</td>\n",
       "    </tr>\n",
       "    <tr>\n",
       "      <td>7412.xlsx</td>\n",
       "      <td>4</td>\n",
       "      <td>0</td>\n",
       "      <td>2</td>\n",
       "      <td>1</td>\n",
       "      <td>22</td>\n",
       "      <td>0</td>\n",
       "      <td>0</td>\n",
       "    </tr>\n",
       "    <tr>\n",
       "      <td>7413.xlsx</td>\n",
       "      <td>4</td>\n",
       "      <td>0</td>\n",
       "      <td>0</td>\n",
       "      <td>3</td>\n",
       "      <td>22</td>\n",
       "      <td>0</td>\n",
       "      <td>0</td>\n",
       "    </tr>\n",
       "    <tr>\n",
       "      <td>7414.xlsx</td>\n",
       "      <td>4</td>\n",
       "      <td>0</td>\n",
       "      <td>0</td>\n",
       "      <td>0</td>\n",
       "      <td>25</td>\n",
       "      <td>0</td>\n",
       "      <td>0</td>\n",
       "    </tr>\n",
       "    <tr>\n",
       "      <td>7415.xlsx</td>\n",
       "      <td>4</td>\n",
       "      <td>0</td>\n",
       "      <td>0</td>\n",
       "      <td>0</td>\n",
       "      <td>25</td>\n",
       "      <td>0</td>\n",
       "      <td>0</td>\n",
       "    </tr>\n",
       "    <tr>\n",
       "      <td>7416.xlsx</td>\n",
       "      <td>4</td>\n",
       "      <td>0</td>\n",
       "      <td>0</td>\n",
       "      <td>3</td>\n",
       "      <td>22</td>\n",
       "      <td>0</td>\n",
       "      <td>0</td>\n",
       "    </tr>\n",
       "  </tbody>\n",
       "</table>\n",
       "<p>191 rows × 7 columns</p>\n",
       "</div>"
      ],
      "text/plain": [
       "           not_registered  num_caries  num_filling_caries  \\\n",
       "id                                                          \n",
       "1101.xlsx               0           2                   1   \n",
       "1102.xlsx               0           2                   0   \n",
       "1103.xlsx               0           0                   0   \n",
       "1104.xlsx               0           8                   0   \n",
       "1105.xlsx               0           0                   1   \n",
       "...                   ...         ...                 ...   \n",
       "7412.xlsx               4           0                   2   \n",
       "7413.xlsx               4           0                   0   \n",
       "7414.xlsx               4           0                   0   \n",
       "7415.xlsx               4           0                   0   \n",
       "7416.xlsx               4           0                   0   \n",
       "\n",
       "           num_filling_no_caries  num_healthy  num_removed_caused_by_caries  \\\n",
       "id                                                                            \n",
       "1101.xlsx                      4           22                             0   \n",
       "1102.xlsx                      2           25                             0   \n",
       "1103.xlsx                      5           24                             0   \n",
       "1104.xlsx                      0           21                             0   \n",
       "1105.xlsx                      0           28                             0   \n",
       "...                          ...          ...                           ...   \n",
       "7412.xlsx                      1           22                             0   \n",
       "7413.xlsx                      3           22                             0   \n",
       "7414.xlsx                      0           25                             0   \n",
       "7415.xlsx                      0           25                             0   \n",
       "7416.xlsx                      3           22                             0   \n",
       "\n",
       "           num_removed_other_reasons  \n",
       "id                                    \n",
       "1101.xlsx                          0  \n",
       "1102.xlsx                          0  \n",
       "1103.xlsx                          0  \n",
       "1104.xlsx                          0  \n",
       "1105.xlsx                          0  \n",
       "...                              ...  \n",
       "7412.xlsx                          0  \n",
       "7413.xlsx                          0  \n",
       "7414.xlsx                          0  \n",
       "7415.xlsx                          0  \n",
       "7416.xlsx                          0  \n",
       "\n",
       "[191 rows x 7 columns]"
      ]
     },
     "execution_count": 60,
     "metadata": {},
     "output_type": "execute_result"
    }
   ],
   "source": [
    "x_prev_year"
   ]
  },
  {
   "cell_type": "code",
   "execution_count": 61,
   "metadata": {},
   "outputs": [],
   "source": [
    "\n",
    "x_mean_test = data[NUM_FEATURES+['id']].groupby('id').mean()\n",
    "x_cat_test = data[CAT_FEATURES+['id']].groupby('id').agg(lambda x:x.value_counts().index[0])\n",
    "last_names = [c+' last' for c in NUM_FEATURES]\n",
    "x_last_test = pd.DataFrame(columns=[c+' last' for c in NUM_FEATURES])\n",
    "x_last_test[last_names] = data[NUM_FEATURES+['id']].groupby('id').last()\n",
    "\n",
    "last_cor_target_names = [c+' previous year' for c in LAST_FEATURES]\n",
    "x_prev_year_test = pd.DataFrame(columns=last_cor_target_names)\n",
    "x_prev_year_test = data[LAST_FEATURES+['id']].groupby('id').agg(lambda x: x.iloc[:len(x)-1].iloc[-1])\n",
    "\n",
    "x_past_target_test = data[TARGET+['id']].groupby('id').agg(lambda x: x.iloc[:len(x)-1].iloc[-1])\n",
    "x_past_target_test.columns = ['kpu_last']\n",
    "x_past_target_test['kpu'] = data[TARGET+['id']].groupby('id').agg(lambda x: x.iloc[-1])"
   ]
  },
  {
   "cell_type": "code",
   "execution_count": 62,
   "metadata": {},
   "outputs": [
    {
     "data": {
      "text/html": [
       "<div>\n",
       "<style scoped>\n",
       "    .dataframe tbody tr th:only-of-type {\n",
       "        vertical-align: middle;\n",
       "    }\n",
       "\n",
       "    .dataframe tbody tr th {\n",
       "        vertical-align: top;\n",
       "    }\n",
       "\n",
       "    .dataframe thead th {\n",
       "        text-align: right;\n",
       "    }\n",
       "</style>\n",
       "<table border=\"1\" class=\"dataframe\">\n",
       "  <thead>\n",
       "    <tr style=\"text-align: right;\">\n",
       "      <th></th>\n",
       "      <th>kpu_last</th>\n",
       "      <th>kpu</th>\n",
       "    </tr>\n",
       "    <tr>\n",
       "      <th>id</th>\n",
       "      <th></th>\n",
       "      <th></th>\n",
       "    </tr>\n",
       "  </thead>\n",
       "  <tbody>\n",
       "    <tr>\n",
       "      <td>1101.xlsx</td>\n",
       "      <td>7</td>\n",
       "      <td>7</td>\n",
       "    </tr>\n",
       "    <tr>\n",
       "      <td>1102.xlsx</td>\n",
       "      <td>4</td>\n",
       "      <td>6</td>\n",
       "    </tr>\n",
       "    <tr>\n",
       "      <td>1103.xlsx</td>\n",
       "      <td>5</td>\n",
       "      <td>6</td>\n",
       "    </tr>\n",
       "    <tr>\n",
       "      <td>1104.xlsx</td>\n",
       "      <td>8</td>\n",
       "      <td>9</td>\n",
       "    </tr>\n",
       "    <tr>\n",
       "      <td>1105.xlsx</td>\n",
       "      <td>1</td>\n",
       "      <td>2</td>\n",
       "    </tr>\n",
       "    <tr>\n",
       "      <td>...</td>\n",
       "      <td>...</td>\n",
       "      <td>...</td>\n",
       "    </tr>\n",
       "    <tr>\n",
       "      <td>7412.xlsx</td>\n",
       "      <td>3</td>\n",
       "      <td>6</td>\n",
       "    </tr>\n",
       "    <tr>\n",
       "      <td>7413.xlsx</td>\n",
       "      <td>3</td>\n",
       "      <td>3</td>\n",
       "    </tr>\n",
       "    <tr>\n",
       "      <td>7414.xlsx</td>\n",
       "      <td>0</td>\n",
       "      <td>2</td>\n",
       "    </tr>\n",
       "    <tr>\n",
       "      <td>7415.xlsx</td>\n",
       "      <td>0</td>\n",
       "      <td>0</td>\n",
       "    </tr>\n",
       "    <tr>\n",
       "      <td>7416.xlsx</td>\n",
       "      <td>3</td>\n",
       "      <td>4</td>\n",
       "    </tr>\n",
       "  </tbody>\n",
       "</table>\n",
       "<p>191 rows × 2 columns</p>\n",
       "</div>"
      ],
      "text/plain": [
       "           kpu_last  kpu\n",
       "id                      \n",
       "1101.xlsx         7    7\n",
       "1102.xlsx         4    6\n",
       "1103.xlsx         5    6\n",
       "1104.xlsx         8    9\n",
       "1105.xlsx         1    2\n",
       "...             ...  ...\n",
       "7412.xlsx         3    6\n",
       "7413.xlsx         3    3\n",
       "7414.xlsx         0    2\n",
       "7415.xlsx         0    0\n",
       "7416.xlsx         3    4\n",
       "\n",
       "[191 rows x 2 columns]"
      ]
     },
     "execution_count": 62,
     "metadata": {},
     "output_type": "execute_result"
    }
   ],
   "source": [
    "x_past_target"
   ]
  },
  {
   "cell_type": "code",
   "execution_count": 63,
   "metadata": {},
   "outputs": [
    {
     "name": "stdout",
     "output_type": "stream",
     "text": [
      "(191, 6) (191, 4) (191, 6)\n"
     ]
    }
   ],
   "source": [
    "print(x_mean.shape, x_cat.shape, x_last.shape)"
   ]
  },
  {
   "cell_type": "code",
   "execution_count": 64,
   "metadata": {},
   "outputs": [],
   "source": [
    "x_train = pd.concat([x_mean, x_cat, x_last,x_prev_year_test, x_past_target['kpu_last']], axis=1)\n",
    "y_train = x_past_target['kpu']\n",
    "\n",
    "x_test = pd.concat([x_mean_test, x_cat_test, x_last_test, x_prev_year_test, x_past_target_test['kpu_last']], axis=1)\n",
    "# y_test = test['kpu']\n",
    "y_test = test[['id', 'kpu']].groupby('id').last()"
   ]
  },
  {
   "cell_type": "code",
   "execution_count": 65,
   "metadata": {},
   "outputs": [
    {
     "name": "stdout",
     "output_type": "stream",
     "text": [
      "(191, 24) (191,) (191, 24) (191, 1)\n"
     ]
    }
   ],
   "source": [
    "print(x_train.shape, y_train.shape, x_test.shape, y_test.shape)"
   ]
  },
  {
   "cell_type": "code",
   "execution_count": 66,
   "metadata": {},
   "outputs": [
    {
     "data": {
      "text/plain": [
       "['nationality', 'place_of_birth', 'previous_place_of_living', 'bite_type']"
      ]
     },
     "execution_count": 66,
     "metadata": {},
     "output_type": "execute_result"
    }
   ],
   "source": [
    "CAT_FEATURES"
   ]
  },
  {
   "cell_type": "code",
   "execution_count": 68,
   "metadata": {},
   "outputs": [
    {
     "data": {
      "text/plain": [
       "0          prosthesis crown veneer\n",
       "1                   sealed fissure\n",
       "2                      uncut tooth\n",
       "3                        fluorosis\n",
       "4                sum_hygiene_index\n",
       "5                        right_age\n",
       "6                      nationality\n",
       "7                   place_of_birth\n",
       "8         previous_place_of_living\n",
       "9                        bite_type\n",
       "10    prosthesis crown veneer last\n",
       "11             sealed fissure last\n",
       "12                uncut tooth last\n",
       "13                  fluorosis last\n",
       "14          sum_hygiene_index last\n",
       "15                  right_age last\n",
       "16                  not_registered\n",
       "17                      num_caries\n",
       "18              num_filling_caries\n",
       "19           num_filling_no_caries\n",
       "20                     num_healthy\n",
       "21    num_removed_caused_by_caries\n",
       "22       num_removed_other_reasons\n",
       "23                        kpu_last\n",
       "dtype: object"
      ]
     },
     "execution_count": 68,
     "metadata": {},
     "output_type": "execute_result"
    }
   ],
   "source": [
    "pd.Series(x_train.columns)"
   ]
  },
  {
   "cell_type": "markdown",
   "metadata": {},
   "source": [
    "# Training Catboost"
   ]
  },
  {
   "cell_type": "code",
   "execution_count": 69,
   "metadata": {},
   "outputs": [],
   "source": [
    "from catboost import CatBoostRegressor\n",
    "from sklearn.metrics import mean_squared_error\n",
    "\n",
    "\n",
    "train_labels = [6, 7, 8, 9]\n",
    "model = CatBoostRegressor(iterations=20,\n",
    "                          learning_rate=0.5,\n",
    "                          depth=16)\n"
   ]
  },
  {
   "cell_type": "code",
   "execution_count": 70,
   "metadata": {
    "scrolled": true
   },
   "outputs": [
    {
     "name": "stdout",
     "output_type": "stream",
     "text": [
      "0:\tlearn: 3.4278399\ttotal: 2.35ms\tremaining: 44.7ms\n",
      "1:\tlearn: 2.6109842\ttotal: 5.58ms\tremaining: 50.2ms\n",
      "2:\tlearn: 1.9063385\ttotal: 127ms\tremaining: 721ms\n",
      "3:\tlearn: 1.5020217\ttotal: 131ms\tremaining: 522ms\n",
      "4:\tlearn: 1.2585175\ttotal: 138ms\tremaining: 413ms\n",
      "5:\tlearn: 1.0522589\ttotal: 151ms\tremaining: 353ms\n",
      "6:\tlearn: 0.9357508\ttotal: 156ms\tremaining: 290ms\n",
      "7:\tlearn: 0.8575198\ttotal: 164ms\tremaining: 245ms\n",
      "8:\tlearn: 0.8242659\ttotal: 164ms\tremaining: 201ms\n",
      "9:\tlearn: 0.7995872\ttotal: 169ms\tremaining: 169ms\n",
      "10:\tlearn: 0.7635074\ttotal: 171ms\tremaining: 140ms\n",
      "11:\tlearn: 0.7319513\ttotal: 174ms\tremaining: 116ms\n",
      "12:\tlearn: 0.7085183\ttotal: 177ms\tremaining: 95.3ms\n",
      "13:\tlearn: 0.7057475\ttotal: 179ms\tremaining: 76.8ms\n",
      "14:\tlearn: 0.6956581\ttotal: 182ms\tremaining: 60.7ms\n",
      "15:\tlearn: 0.6874994\ttotal: 186ms\tremaining: 46.6ms\n",
      "16:\tlearn: 0.6838780\ttotal: 189ms\tremaining: 33.4ms\n",
      "17:\tlearn: 0.6636953\ttotal: 300ms\tremaining: 33.4ms\n",
      "18:\tlearn: 0.6594321\ttotal: 305ms\tremaining: 16.1ms\n",
      "19:\tlearn: 0.6458757\ttotal: 331ms\tremaining: 0us\n"
     ]
    },
    {
     "data": {
      "text/plain": [
       "1.430640306368229"
      ]
     },
     "execution_count": 70,
     "metadata": {},
     "output_type": "execute_result"
    }
   ],
   "source": [
    "model.fit(x_train, y_train,  train_labels)\n",
    "y_pred = model.predict(x_test)\n",
    "score = np.sqrt( mean_squared_error(y_test, y_pred ))\n",
    "score"
   ]
  },
  {
   "cell_type": "code",
   "execution_count": 83,
   "metadata": {
    "scrolled": true
   },
   "outputs": [
    {
     "data": {
      "text/plain": [
       "Text(0.5,1,'Значимость признаков для модели')"
      ]
     },
     "execution_count": 83,
     "metadata": {},
     "output_type": "execute_result"
    },
    {
     "data": {
      "image/png": "[encoded data removed]",
      "text/plain": [
       "<matplotlib.figure.Figure at 0x7fdb6978f278>"
      ]
     },
     "metadata": {},
     "output_type": "display_data"
    }
   ],
   "source": [
    "plt.figure(figsize=(15, 20))\n",
    "pd.Series(index=x_train.columns, data=model.feature_importances_).sort_values(ascending=False).plot(kind='bar')\n",
    "plt.title('Значимость признаков для модели')\n",
    "# plt.show()"
   ]
  },
  {
   "cell_type": "code",
   "execution_count": null,
   "metadata": {},
   "outputs": [],
   "source": []
  }
 ],
 "metadata": {
  "kernelspec": {
   "display_name": "Python 3",
   "language": "python",
   "name": "python3"
  },
  "language_info": {
   "codemirror_mode": {
    "name": "ipython",
    "version": 3
   },
   "file_extension": ".py",
   "mimetype": "text/x-python",
   "name": "python",
   "nbconvert_exporter": "python",
   "pygments_lexer": "ipython3",
   "version": "3.6.4"
  }
 },
 "nbformat": 4,
 "nbformat_minor": 2
}
