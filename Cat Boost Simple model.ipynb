{
 "cells": [
  {
   "cell_type": "code",
   "execution_count": 2,
   "metadata": {},
   "outputs": [],
   "source": [
    "import pandas as pd\n",
    "import numpy as np"
   ]
  },
  {
   "cell_type": "code",
   "execution_count": 3,
   "metadata": {},
   "outputs": [],
   "source": [
    "data = pd.read_csv('extended_stoma_dataset.csv')"
   ]
  },
  {
   "cell_type": "code",
   "execution_count": 4,
   "metadata": {},
   "outputs": [
    {
     "data": {
      "text/html": [
       "<div>\n",
       "<style scoped>\n",
       "    .dataframe tbody tr th:only-of-type {\n",
       "        vertical-align: middle;\n",
       "    }\n",
       "\n",
       "    .dataframe tbody tr th {\n",
       "        vertical-align: top;\n",
       "    }\n",
       "\n",
       "    .dataframe thead th {\n",
       "        text-align: right;\n",
       "    }\n",
       "</style>\n",
       "<table border=\"1\" class=\"dataframe\">\n",
       "  <thead>\n",
       "    <tr style=\"text-align: right;\">\n",
       "      <th></th>\n",
       "      <th>Unnamed: 0</th>\n",
       "      <th>dates</th>\n",
       "      <th>id</th>\n",
       "      <th>not_registered</th>\n",
       "      <th>num_caries</th>\n",
       "      <th>num_filling_caries</th>\n",
       "      <th>num_filling_no_caries</th>\n",
       "      <th>num_healthy</th>\n",
       "      <th>num_removed_caused_by_caries</th>\n",
       "      <th>num_removed_other_reasons</th>\n",
       "      <th>...</th>\n",
       "      <th>sealed fissure</th>\n",
       "      <th>uncut tooth</th>\n",
       "      <th>age</th>\n",
       "      <th>nationality</th>\n",
       "      <th>date_of_birth</th>\n",
       "      <th>place_of_birth</th>\n",
       "      <th>previous_place_of_living</th>\n",
       "      <th>bite_type</th>\n",
       "      <th>fluorosis</th>\n",
       "      <th>sum_hygiene_index</th>\n",
       "    </tr>\n",
       "  </thead>\n",
       "  <tbody>\n",
       "    <tr>\n",
       "      <td>0</td>\n",
       "      <td>0</td>\n",
       "      <td>2011-2012</td>\n",
       "      <td>1302.xlsx</td>\n",
       "      <td>4</td>\n",
       "      <td>3</td>\n",
       "      <td>0</td>\n",
       "      <td>0</td>\n",
       "      <td>21</td>\n",
       "      <td>0</td>\n",
       "      <td>0</td>\n",
       "      <td>...</td>\n",
       "      <td>0</td>\n",
       "      <td>0</td>\n",
       "      <td>18.0</td>\n",
       "      <td>русский</td>\n",
       "      <td>11.04.01</td>\n",
       "      <td>Мурманск</td>\n",
       "      <td>Мурманск</td>\n",
       "      <td>ортогнатический</td>\n",
       "      <td>0</td>\n",
       "      <td>2.0</td>\n",
       "    </tr>\n",
       "    <tr>\n",
       "      <td>1</td>\n",
       "      <td>1</td>\n",
       "      <td>2012-2013</td>\n",
       "      <td>1302.xlsx</td>\n",
       "      <td>4</td>\n",
       "      <td>3</td>\n",
       "      <td>0</td>\n",
       "      <td>0</td>\n",
       "      <td>21</td>\n",
       "      <td>0</td>\n",
       "      <td>0</td>\n",
       "      <td>...</td>\n",
       "      <td>0</td>\n",
       "      <td>0</td>\n",
       "      <td>18.0</td>\n",
       "      <td>русский</td>\n",
       "      <td>11.04.01</td>\n",
       "      <td>Мурманск</td>\n",
       "      <td>Мурманск</td>\n",
       "      <td>ортогнатический</td>\n",
       "      <td>0</td>\n",
       "      <td>2.0</td>\n",
       "    </tr>\n",
       "    <tr>\n",
       "      <td>2</td>\n",
       "      <td>2</td>\n",
       "      <td>2013-2014</td>\n",
       "      <td>1302.xlsx</td>\n",
       "      <td>0</td>\n",
       "      <td>4</td>\n",
       "      <td>0</td>\n",
       "      <td>1</td>\n",
       "      <td>23</td>\n",
       "      <td>0</td>\n",
       "      <td>0</td>\n",
       "      <td>...</td>\n",
       "      <td>0</td>\n",
       "      <td>0</td>\n",
       "      <td>18.0</td>\n",
       "      <td>русский</td>\n",
       "      <td>11.04.01</td>\n",
       "      <td>Мурманск</td>\n",
       "      <td>Мурманск</td>\n",
       "      <td>ортогнатический</td>\n",
       "      <td>0</td>\n",
       "      <td>2.0</td>\n",
       "    </tr>\n",
       "    <tr>\n",
       "      <td>3</td>\n",
       "      <td>3</td>\n",
       "      <td>2014-2015</td>\n",
       "      <td>1302.xlsx</td>\n",
       "      <td>0</td>\n",
       "      <td>4</td>\n",
       "      <td>0</td>\n",
       "      <td>3</td>\n",
       "      <td>21</td>\n",
       "      <td>0</td>\n",
       "      <td>0</td>\n",
       "      <td>...</td>\n",
       "      <td>0</td>\n",
       "      <td>0</td>\n",
       "      <td>18.0</td>\n",
       "      <td>русский</td>\n",
       "      <td>11.04.01</td>\n",
       "      <td>Мурманск</td>\n",
       "      <td>Мурманск</td>\n",
       "      <td>ортогнатический</td>\n",
       "      <td>0</td>\n",
       "      <td>2.0</td>\n",
       "    </tr>\n",
       "    <tr>\n",
       "      <td>4</td>\n",
       "      <td>4</td>\n",
       "      <td>2015-2016</td>\n",
       "      <td>1302.xlsx</td>\n",
       "      <td>0</td>\n",
       "      <td>2</td>\n",
       "      <td>1</td>\n",
       "      <td>4</td>\n",
       "      <td>22</td>\n",
       "      <td>0</td>\n",
       "      <td>0</td>\n",
       "      <td>...</td>\n",
       "      <td>0</td>\n",
       "      <td>0</td>\n",
       "      <td>18.0</td>\n",
       "      <td>русский</td>\n",
       "      <td>11.04.01</td>\n",
       "      <td>Мурманск</td>\n",
       "      <td>Мурманск</td>\n",
       "      <td>ортогнатический</td>\n",
       "      <td>0</td>\n",
       "      <td>2.0</td>\n",
       "    </tr>\n",
       "  </tbody>\n",
       "</table>\n",
       "<p>5 rows × 21 columns</p>\n",
       "</div>"
      ],
      "text/plain": [
       "   Unnamed: 0      dates         id  not_registered  num_caries  \\\n",
       "0           0  2011-2012  1302.xlsx               4           3   \n",
       "1           1  2012-2013  1302.xlsx               4           3   \n",
       "2           2  2013-2014  1302.xlsx               0           4   \n",
       "3           3  2014-2015  1302.xlsx               0           4   \n",
       "4           4  2015-2016  1302.xlsx               0           2   \n",
       "\n",
       "   num_filling_caries  num_filling_no_caries  num_healthy  \\\n",
       "0                   0                      0           21   \n",
       "1                   0                      0           21   \n",
       "2                   0                      1           23   \n",
       "3                   0                      3           21   \n",
       "4                   1                      4           22   \n",
       "\n",
       "   num_removed_caused_by_caries  num_removed_other_reasons  ...  \\\n",
       "0                             0                          0  ...   \n",
       "1                             0                          0  ...   \n",
       "2                             0                          0  ...   \n",
       "3                             0                          0  ...   \n",
       "4                             0                          0  ...   \n",
       "\n",
       "   sealed fissure  uncut tooth   age  nationality date_of_birth  \\\n",
       "0               0            0  18.0      русский      11.04.01   \n",
       "1               0            0  18.0      русский      11.04.01   \n",
       "2               0            0  18.0      русский      11.04.01   \n",
       "3               0            0  18.0      русский      11.04.01   \n",
       "4               0            0  18.0      русский      11.04.01   \n",
       "\n",
       "  place_of_birth previous_place_of_living        bite_type fluorosis  \\\n",
       "0       Мурманск                 Мурманск  ортогнатический         0   \n",
       "1       Мурманск                 Мурманск  ортогнатический         0   \n",
       "2       Мурманск                 Мурманск  ортогнатический         0   \n",
       "3       Мурманск                 Мурманск  ортогнатический         0   \n",
       "4       Мурманск                 Мурманск  ортогнатический         0   \n",
       "\n",
       "   sum_hygiene_index  \n",
       "0                2.0  \n",
       "1                2.0  \n",
       "2                2.0  \n",
       "3                2.0  \n",
       "4                2.0  \n",
       "\n",
       "[5 rows x 21 columns]"
      ]
     },
     "execution_count": 4,
     "metadata": {},
     "output_type": "execute_result"
    }
   ],
   "source": [
    "data.head()"
   ]
  },
  {
   "cell_type": "code",
   "execution_count": 5,
   "metadata": {},
   "outputs": [],
   "source": [
    "data['end_year'] = data.dates.apply(lambda a: int(a.split('-')[1]))\n",
    "data['birth_year'] = data['date_of_birth'].apply(lambda a: int('20'+a.split('.')[-1] ))\n",
    "data['right_age'] = data[['end_year', 'birth_year']].apply(lambda a: a[0]-a[1], axis=1)\n",
    "data['kpu'] = data[['num_caries', 'num_filling_caries',\n",
    "                    'num_filling_no_caries', \n",
    "                    'num_removed_caused_by_caries', 'num_removed_other_reasons']].sum(axis=1)\n"
   ]
  },
  {
   "cell_type": "code",
   "execution_count": 75,
   "metadata": {},
   "outputs": [],
   "source": [
    "train = data.drop(data[data['dates'] == '2017-2018'].index, axis=0) \n",
    "test = data[data['dates'] == '2017-2018']"
   ]
  },
  {
   "cell_type": "code",
   "execution_count": 61,
   "metadata": {},
   "outputs": [
    {
     "name": "stdout",
     "output_type": "stream",
     "text": [
      "(1146, 24) (191, 24)\n"
     ]
    }
   ],
   "source": [
    "print(train.shape, test.shape)"
   ]
  },
  {
   "cell_type": "code",
   "execution_count": 93,
   "metadata": {},
   "outputs": [],
   "source": [
    "NUM_FEATURES = ['not_registered', 'num_caries',\n",
    "       'num_filling_caries', 'num_filling_no_caries', 'num_healthy',\n",
    "       'num_removed_caused_by_caries', 'num_removed_other_reasons',\n",
    "       'prosthesis crown veneer', 'sealed fissure', 'uncut tooth', 'fluorosis', \n",
    "               'sum_hygiene_index', 'right_age', ]\n",
    "\n",
    "TARGET = ['kpu']\n",
    "CAT_FEATURES = ['nationality', 'place_of_birth',\n",
    "               'previous_place_of_living', 'bite_type', ]\n"
   ]
  },
  {
   "cell_type": "code",
   "execution_count": 77,
   "metadata": {},
   "outputs": [
    {
     "data": {
      "text/plain": [
       "Index(['Unnamed: 0', 'dates', 'id', 'not_registered', 'num_caries',\n",
       "       'num_filling_caries', 'num_filling_no_caries', 'num_healthy',\n",
       "       'num_removed_caused_by_caries', 'num_removed_other_reasons',\n",
       "       'prosthesis crown veneer', 'sealed fissure', 'uncut tooth', 'age',\n",
       "       'nationality', 'date_of_birth', 'place_of_birth',\n",
       "       'previous_place_of_living', 'bite_type', 'fluorosis',\n",
       "       'sum_hygiene_index', 'end_year', 'birth_year', 'right_age', 'kpu'],\n",
       "      dtype='object')"
      ]
     },
     "execution_count": 77,
     "metadata": {},
     "output_type": "execute_result"
    }
   ],
   "source": [
    "train.columns"
   ]
  },
  {
   "cell_type": "code",
   "execution_count": 109,
   "metadata": {},
   "outputs": [],
   "source": [
    "\n",
    "x_mean = train[NUM_FEATURES+['id']].groupby('id').mean()\n",
    "x_cat = train[CAT_FEATURES+['id']].groupby('id').agg(lambda x:x.value_counts().index[0])\n",
    "last_names = [c+' last' for c in NUM_FEATURES]\n",
    "x_last = pd.DataFrame(columns=[c+' last' for c in NUM_FEATURES])\n",
    "x_last[last_names] = train[NUM_FEATURES+['id']].groupby('id').last()\n",
    "x_past_target = train[TARGET+['id']].groupby('id').agg(lambda x: x.iloc[:len(x)-1].iloc[-1])\n",
    "x_past_target.columns = ['kpu_last']\n",
    "x_past_target['kpu'] = train[TARGET+['id']].groupby('id').agg(lambda x: x.iloc[-1])"
   ]
  },
  {
   "cell_type": "code",
   "execution_count": 112,
   "metadata": {},
   "outputs": [],
   "source": [
    "\n",
    "x_mean_test = data[NUM_FEATURES+['id']].groupby('id').mean()\n",
    "x_cat_test = data[CAT_FEATURES+['id']].groupby('id').agg(lambda x:x.value_counts().index[0])\n",
    "last_names = [c+' last' for c in NUM_FEATURES]\n",
    "x_last_test = pd.DataFrame(columns=[c+' last' for c in NUM_FEATURES])\n",
    "x_last_test[last_names] = data[NUM_FEATURES+['id']].groupby('id').last()\n",
    "x_past_target_test = data[TARGET+['id']].groupby('id').agg(lambda x: x.iloc[:len(x)-1].iloc[-1])\n",
    "x_past_target_test.columns = ['kpu_last']\n",
    "x_past_target_test['kpu'] = data[TARGET+['id']].groupby('id').agg(lambda x: x.iloc[-1])"
   ]
  },
  {
   "cell_type": "code",
   "execution_count": 110,
   "metadata": {},
   "outputs": [
    {
     "data": {
      "text/html": [
       "<div>\n",
       "<style scoped>\n",
       "    .dataframe tbody tr th:only-of-type {\n",
       "        vertical-align: middle;\n",
       "    }\n",
       "\n",
       "    .dataframe tbody tr th {\n",
       "        vertical-align: top;\n",
       "    }\n",
       "\n",
       "    .dataframe thead th {\n",
       "        text-align: right;\n",
       "    }\n",
       "</style>\n",
       "<table border=\"1\" class=\"dataframe\">\n",
       "  <thead>\n",
       "    <tr style=\"text-align: right;\">\n",
       "      <th></th>\n",
       "      <th>kpu_last</th>\n",
       "      <th>kpu</th>\n",
       "    </tr>\n",
       "    <tr>\n",
       "      <th>id</th>\n",
       "      <th></th>\n",
       "      <th></th>\n",
       "    </tr>\n",
       "  </thead>\n",
       "  <tbody>\n",
       "    <tr>\n",
       "      <td>1101.xlsx</td>\n",
       "      <td>7</td>\n",
       "      <td>7</td>\n",
       "    </tr>\n",
       "    <tr>\n",
       "      <td>1102.xlsx</td>\n",
       "      <td>4</td>\n",
       "      <td>6</td>\n",
       "    </tr>\n",
       "    <tr>\n",
       "      <td>1103.xlsx</td>\n",
       "      <td>5</td>\n",
       "      <td>6</td>\n",
       "    </tr>\n",
       "    <tr>\n",
       "      <td>1104.xlsx</td>\n",
       "      <td>8</td>\n",
       "      <td>9</td>\n",
       "    </tr>\n",
       "    <tr>\n",
       "      <td>1105.xlsx</td>\n",
       "      <td>1</td>\n",
       "      <td>2</td>\n",
       "    </tr>\n",
       "    <tr>\n",
       "      <td>...</td>\n",
       "      <td>...</td>\n",
       "      <td>...</td>\n",
       "    </tr>\n",
       "    <tr>\n",
       "      <td>7412.xlsx</td>\n",
       "      <td>3</td>\n",
       "      <td>6</td>\n",
       "    </tr>\n",
       "    <tr>\n",
       "      <td>7413.xlsx</td>\n",
       "      <td>3</td>\n",
       "      <td>3</td>\n",
       "    </tr>\n",
       "    <tr>\n",
       "      <td>7414.xlsx</td>\n",
       "      <td>0</td>\n",
       "      <td>2</td>\n",
       "    </tr>\n",
       "    <tr>\n",
       "      <td>7415.xlsx</td>\n",
       "      <td>0</td>\n",
       "      <td>0</td>\n",
       "    </tr>\n",
       "    <tr>\n",
       "      <td>7416.xlsx</td>\n",
       "      <td>3</td>\n",
       "      <td>4</td>\n",
       "    </tr>\n",
       "  </tbody>\n",
       "</table>\n",
       "<p>191 rows × 2 columns</p>\n",
       "</div>"
      ],
      "text/plain": [
       "           kpu_last  kpu\n",
       "id                      \n",
       "1101.xlsx         7    7\n",
       "1102.xlsx         4    6\n",
       "1103.xlsx         5    6\n",
       "1104.xlsx         8    9\n",
       "1105.xlsx         1    2\n",
       "...             ...  ...\n",
       "7412.xlsx         3    6\n",
       "7413.xlsx         3    3\n",
       "7414.xlsx         0    2\n",
       "7415.xlsx         0    0\n",
       "7416.xlsx         3    4\n",
       "\n",
       "[191 rows x 2 columns]"
      ]
     },
     "execution_count": 110,
     "metadata": {},
     "output_type": "execute_result"
    }
   ],
   "source": [
    "x_past_target"
   ]
  },
  {
   "cell_type": "code",
   "execution_count": 80,
   "metadata": {},
   "outputs": [
    {
     "name": "stdout",
     "output_type": "stream",
     "text": [
      "(191, 14) (191, 4) (191, 14)\n"
     ]
    }
   ],
   "source": [
    "print(x_mean.shape, x_cat.shape, x_last.shape)"
   ]
  },
  {
   "cell_type": "code",
   "execution_count": 111,
   "metadata": {},
   "outputs": [
    {
     "data": {
      "text/plain": [
       "Index(['not_registered', 'num_caries', 'num_filling_caries',\n",
       "       'num_filling_no_caries', 'num_healthy', 'num_removed_caused_by_caries',\n",
       "       'num_removed_other_reasons', 'prosthesis crown veneer',\n",
       "       'sealed fissure', 'uncut tooth', 'fluorosis', 'sum_hygiene_index',\n",
       "       'right_age', 'nationality', 'place_of_birth',\n",
       "       'previous_place_of_living', 'bite_type', 'not_registered last',\n",
       "       'num_caries last', 'num_filling_caries last',\n",
       "       'num_filling_no_caries last', 'num_healthy last',\n",
       "       'num_removed_caused_by_caries last', 'num_removed_other_reasons last',\n",
       "       'prosthesis crown veneer last', 'sealed fissure last',\n",
       "       'uncut tooth last', 'fluorosis last', 'sum_hygiene_index last',\n",
       "       'right_age last'],\n",
       "      dtype='object')"
      ]
     },
     "execution_count": 111,
     "metadata": {},
     "output_type": "execute_result"
    }
   ],
   "source": [
    "x_train.columns"
   ]
  },
  {
   "cell_type": "code",
   "execution_count": 113,
   "metadata": {},
   "outputs": [],
   "source": [
    "x_train = pd.concat([x_mean, x_cat, x_last, x_past_target['kpu_last']], axis=1)\n",
    "y_train = x_past_target['kpu']\n",
    "\n",
    "x_test = pd.concat([x_mean_test, x_cat_test, x_last_test, x_past_target_test['kpu_last']], axis=1)\n",
    "y_test = test['kpu']"
   ]
  },
  {
   "cell_type": "code",
   "execution_count": 114,
   "metadata": {},
   "outputs": [
    {
     "name": "stdout",
     "output_type": "stream",
     "text": [
      "(191, 31) (191,) (191, 31) (191,)\n"
     ]
    }
   ],
   "source": [
    "print(x_train.shape, y_train.shape, x_test.shape, y_test.shape)"
   ]
  },
  {
   "cell_type": "code",
   "execution_count": 119,
   "metadata": {},
   "outputs": [
    {
     "data": {
      "text/plain": [
       "['nationality', 'place_of_birth', 'previous_place_of_living', 'bite_type']"
      ]
     },
     "execution_count": 119,
     "metadata": {},
     "output_type": "execute_result"
    }
   ],
   "source": [
    "CAT_FEATURES"
   ]
  },
  {
   "cell_type": "code",
   "execution_count": 117,
   "metadata": {},
   "outputs": [
    {
     "data": {
      "text/plain": [
       "Index(['not_registered', 'num_caries', 'num_filling_caries',\n",
       "       'num_filling_no_caries', 'num_healthy', 'num_removed_caused_by_caries',\n",
       "       'num_removed_other_reasons', 'prosthesis crown veneer',\n",
       "       'sealed fissure', 'uncut tooth', 'fluorosis', 'sum_hygiene_index',\n",
       "       'right_age', 'nationality', 'place_of_birth',\n",
       "       'previous_place_of_living', 'bite_type', 'not_registered last',\n",
       "       'num_caries last', 'num_filling_caries last',\n",
       "       'num_filling_no_caries last', 'num_healthy last',\n",
       "       'num_removed_caused_by_caries last', 'num_removed_other_reasons last',\n",
       "       'prosthesis crown veneer last', 'sealed fissure last',\n",
       "       'uncut tooth last', 'fluorosis last', 'sum_hygiene_index last',\n",
       "       'right_age last', 'kpu_last'],\n",
       "      dtype='object')"
      ]
     },
     "execution_count": 117,
     "metadata": {},
     "output_type": "execute_result"
    }
   ],
   "source": [
    "x_train.columns"
   ]
  },
  {
   "cell_type": "markdown",
   "metadata": {},
   "source": [
    "# Training Catboost"
   ]
  },
  {
   "cell_type": "code",
   "execution_count": 137,
   "metadata": {},
   "outputs": [],
   "source": [
    "from catboost import CatBoostRegressor\n",
    "from sklearn.metrics import mean_squared_error\n",
    "\n",
    "\n",
    "train_labels = [13, 14, 15, 16, 17]\n",
    "model = CatBoostRegressor(iterations=20,\n",
    "                          learning_rate=0.5,\n",
    "                          depth=16)\n"
   ]
  },
  {
   "cell_type": "code",
   "execution_count": 138,
   "metadata": {},
   "outputs": [
    {
     "name": "stdout",
     "output_type": "stream",
     "text": [
      "0:\tlearn: 3.5115902\ttotal: 6.89ms\tremaining: 131ms\n",
      "1:\tlearn: 2.6790160\ttotal: 10.6ms\tremaining: 95.7ms\n",
      "2:\tlearn: 2.1290815\ttotal: 15.4ms\tremaining: 87.2ms\n",
      "3:\tlearn: 1.8510430\ttotal: 18.1ms\tremaining: 72.4ms\n",
      "4:\tlearn: 1.6039060\ttotal: 21ms\tremaining: 63.1ms\n",
      "5:\tlearn: 1.5009399\ttotal: 27.1ms\tremaining: 63.2ms\n",
      "6:\tlearn: 1.4291470\ttotal: 29.1ms\tremaining: 54ms\n",
      "7:\tlearn: 1.2686071\ttotal: 49ms\tremaining: 73.5ms\n",
      "8:\tlearn: 1.1115867\ttotal: 51.7ms\tremaining: 63.1ms\n",
      "9:\tlearn: 1.0337476\ttotal: 53.3ms\tremaining: 53.3ms\n",
      "10:\tlearn: 0.9191611\ttotal: 90.6ms\tremaining: 74.1ms\n",
      "11:\tlearn: 0.8098716\ttotal: 165ms\tremaining: 110ms\n",
      "12:\tlearn: 0.7293212\ttotal: 172ms\tremaining: 92.7ms\n",
      "13:\tlearn: 0.7110649\ttotal: 174ms\tremaining: 74.4ms\n",
      "14:\tlearn: 0.7040037\ttotal: 175ms\tremaining: 58.2ms\n",
      "\n",
      "Iteration with suspicious time 1.72 sec ignored in overall statistics.\n",
      "15:\tlearn: 0.6410112\ttotal: 175ms\tremaining: 58.2ms\n",
      "16:\tlearn: 0.5819177\ttotal: 186ms\tremaining: 34.9ms\n",
      "\n",
      "Iteration with suspicious time 1.69 sec ignored in overall statistics.\n",
      "17:\tlearn: 0.5344400\ttotal: 186ms\tremaining: 34.9ms\n",
      "18:\tlearn: 0.4829160\ttotal: 520ms\tremaining: 30.6ms\n",
      "19:\tlearn: 0.4674287\ttotal: 552ms\tremaining: 0us\n"
     ]
    },
    {
     "data": {
      "text/plain": [
       "3.6887282968241744"
      ]
     },
     "execution_count": 138,
     "metadata": {},
     "output_type": "execute_result"
    }
   ],
   "source": [
    "model.fit(x_train, y_train,  train_labels)\n",
    "y_pred = model.predict(x_test)\n",
    "score = np.sqrt( mean_squared_error(y_test, y_pred ))\n",
    "score"
   ]
  },
  {
   "cell_type": "code",
   "execution_count": 144,
   "metadata": {},
   "outputs": [
    {
     "data": {
      "text/plain": [
       "previous_place_of_living              0.000000\n",
       "uncut tooth last                      0.000000\n",
       "prosthesis crown veneer last          0.000000\n",
       "num_removed_caused_by_caries          0.000000\n",
       "prosthesis crown veneer               0.000000\n",
       "bite_type                             0.000000\n",
       "place_of_birth                        0.000000\n",
       "num_removed_other_reasons             0.001134\n",
       "num_removed_other_reasons last        0.002620\n",
       "fluorosis                             0.002814\n",
       "nationality                           0.006750\n",
       "sealed fissure last                   0.016794\n",
       "not_registered                        0.034378\n",
       "uncut tooth                           0.075709\n",
       "num_removed_caused_by_caries last     0.078177\n",
       "num_filling_caries                    0.393874\n",
       "num_filling_caries last               0.479310\n",
       "sum_hygiene_index last                0.557437\n",
       "not_registered last                   0.561509\n",
       "fluorosis last                        2.027313\n",
       "sum_hygiene_index                     2.544326\n",
       "sealed fissure                        2.916886\n",
       "num_filling_no_caries                 3.060358\n",
       "num_caries                            3.171023\n",
       "num_healthy last                      4.896591\n",
       "right_age last                        5.261053\n",
       "right_age                             8.909447\n",
       "num_healthy                          10.386011\n",
       "kpu_last                             11.780689\n",
       "num_caries last                      12.477148\n",
       "num_filling_no_caries last           30.358648\n",
       "dtype: float64"
      ]
     },
     "execution_count": 144,
     "metadata": {},
     "output_type": "execute_result"
    }
   ],
   "source": [
    "pd.Series(index=x_train.columns, data=model.feature_importances_).sort_values()"
   ]
  },
  {
   "cell_type": "code",
   "execution_count": null,
   "metadata": {},
   "outputs": [],
   "source": []
  }
 ],
 "metadata": {
  "kernelspec": {
   "display_name": "Python 3",
   "language": "python",
   "name": "python3"
  },
  "language_info": {
   "codemirror_mode": {
    "name": "ipython",
    "version": 3
   },
   "file_extension": ".py",
   "mimetype": "text/x-python",
   "name": "python",
   "nbconvert_exporter": "python",
   "pygments_lexer": "ipython3",
   "version": "3.6.4"
  }
 },
 "nbformat": 4,
 "nbformat_minor": 2
}
